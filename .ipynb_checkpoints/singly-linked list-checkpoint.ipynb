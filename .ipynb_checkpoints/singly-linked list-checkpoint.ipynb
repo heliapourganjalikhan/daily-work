{
 "cells": [
  {
   "cell_type": "code",
   "execution_count": 55,
   "id": "5ad4674b",
   "metadata": {},
   "outputs": [
    {
     "name": "stdout",
     "output_type": "stream",
     "text": [
      "1\n",
      "<__main__.Node object at 0x7f71fbe05a50>\n",
      "1233"
     ]
    }
   ],
   "source": [
    "class Node :\n",
    "    def __init__(self ,data ,nextval = None):\n",
    "        self.data = data\n",
    "        self.nextval = nextval\n",
    "\n",
    "class Slinkedlist :\n",
    "    def __init__(self):\n",
    "        self.head = None\n",
    "        \n",
    "    #traversing the linked list\n",
    "    def Printlist(self) :\n",
    "        printval = self.head\n",
    "        while printval is not None:\n",
    "            print(printval.data, end =\"\")\n",
    "            printval= printval.nextval\n",
    "    \n",
    "    #insertion of a new node in the beginig of the list\n",
    "    def AtBegining(self ,newdata):\n",
    "        NewNode = Node(newdata)\n",
    "        NewNode.nextval = self.head\n",
    "        print(self.head)\n",
    "        self.head = NewNode\n",
    "        print(self.head)\n",
    "        \n",
    "    #insertion at the end of the list\n",
    "    def AtEnd(self ,newnode):\n",
    "        NewNode = Node(newnode)\n",
    "        if self.head is None:\n",
    "            self.head = NewNode\n",
    "            return\n",
    "        tail = self.head\n",
    "        while(tail.nextval):\n",
    "            tail = tail.nextval\n",
    "        tail.nextval = NewNode\n",
    "        \n",
    "    #insertion in the middle of list\n",
    "    def InBetween(self ,middle_node ,newdata):\n",
    "        Newnode = Node(newdata)\n",
    "        if middle_node is None:\n",
    "            print(\"This middle node is absent\")\n",
    "            return\n",
    "        Newnode.nextval = middle_node.nextval\n",
    "        middle_node.nextval = Newnode\n",
    "    \n",
    "list1 = Slinkedlist()\n",
    "list1.head = Node(1)\n",
    "sdigit2 = Node(2)\n",
    "digit3 = Node(3)\n",
    "#create links between nodes\n",
    "list1.head.nextval = digit2\n",
    "digit2.nextval = digit3\n",
    "print(list1.head.data)\n",
    "list1.AtBegining(4)\n",
    "list1.AtEnd(4)\n",
    "print(list1.head)\n",
    "list1.InBetween(digit2.nextval,3)\n",
    "list1.Printlist()\n"
   ]
  },
  {
   "cell_type": "code",
   "execution_count": null,
   "id": "14edb24c",
   "metadata": {},
   "outputs": [],
   "source": []
  },
  {
   "cell_type": "code",
   "execution_count": null,
   "id": "12b5e9f4",
   "metadata": {},
   "outputs": [],
   "source": []
  }
 ],
 "metadata": {
  "kernelspec": {
   "display_name": "Python 3 (ipykernel)",
   "language": "python",
   "name": "python3"
  },
  "language_info": {
   "codemirror_mode": {
    "name": "ipython",
    "version": 3
   },
   "file_extension": ".py",
   "mimetype": "text/x-python",
   "name": "python",
   "nbconvert_exporter": "python",
   "pygments_lexer": "ipython3",
   "version": "3.11.3"
  }
 },
 "nbformat": 4,
 "nbformat_minor": 5
}

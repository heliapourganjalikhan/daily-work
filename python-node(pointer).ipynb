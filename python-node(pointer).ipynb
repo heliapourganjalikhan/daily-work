{
 "cells": [
  {
   "cell_type": "code",
   "execution_count": null,
   "id": "a81af764",
   "metadata": {},
   "outputs": [],
   "source": [
    "#below I've implemented a node class called digit \n"
   ]
  },
  {
   "cell_type": "code",
   "execution_count": null,
   "id": "f934122a",
   "metadata": {},
   "outputs": [],
   "source": [
    "class digit:\n",
    "    def __init__ (self ,value ,next_node = None):\n",
    "        print(\"print from __init__\")\n",
    "        self.value = value\n",
    "        self.next_node = next_node\n",
    "    def set_next_node (self, next_node):\n",
    "        print(\"print from set-next_node\")\n",
    "        self.next_node = next_node\n",
    "    def get_next_node (self):\n",
    "        print(\"print from get_next_node\")\n",
    "        #return self.next_node\n",
    "        #the above will just return the address of next node\n",
    "        return self.next_node.value\n",
    "    def get_value (self):\n",
    "        print(\"print from get_value\")\n",
    "        return self.value\n",
    "e1 = digit(1)\n",
    "e2 = digit(2)\n",
    "print(e1.value)\n",
    "print(e1.next_node)\n",
    "e1.set_next_node(e2)\n",
    "print(e1.next_node.value)\n",
    "print(e1.get_next_node())\n",
    "#print(e1.get_value())"
   ]
  },
  {
   "cell_type": "raw",
   "id": "6f1ae661",
   "metadata": {},
   "source": [
    "from the link below you can understand the parameter \"self\" \n",
    "https://www.programiz.com/article/python-self-why"
   ]
  }
 ],
 "metadata": {
  "kernelspec": {
   "display_name": "Python 3 (ipykernel)",
   "language": "python",
   "name": "python3"
  },
  "language_info": {
   "codemirror_mode": {
    "name": "ipython",
    "version": 3
   },
   "file_extension": ".py",
   "mimetype": "text/x-python",
   "name": "python",
   "nbconvert_exporter": "python",
   "pygments_lexer": "ipython3",
   "version": "3.11.3"
  }
 },
 "nbformat": 4,
 "nbformat_minor": 5
}
